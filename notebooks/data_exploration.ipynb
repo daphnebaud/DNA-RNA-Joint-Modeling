{
 "cells": [
  {
   "metadata": {},
   "cell_type": "markdown",
   "source": "# Data Exploration - DNA/RNA Joint Modeling\n",
   "id": "6f35abd012dc36b0"
  },
  {
   "metadata": {},
   "cell_type": "markdown",
   "source": "Setup: Load libraries and DataLoader.py from load_data.py.",
   "id": "cc602a9d42d7b2c3"
  },
  {
   "metadata": {
    "ExecuteTime": {
     "end_time": "2025-06-25T17:39:09.994176Z",
     "start_time": "2025-06-25T17:39:07.130350Z"
    }
   },
   "cell_type": "code",
   "source": [
    "import numpy as np\n",
    "import pandas as pd\n",
    "import matplotlib.pyplot as plt\n",
    "import seaborn as sns\n",
    "\n",
    "from pathlib import Path\n",
    "main_path = Path.cwd().parent.parent\n",
    "scr_path = main_path / \"src\"\n",
    "data_path = main_path / \"data\" / \"provided_data\"\n",
    "# Import custom data loader\n",
    "from scr.data.data_loader import DataLoader\n"
   ],
   "id": "3d9d1d7d0482a002",
   "outputs": [],
   "execution_count": 1
  },
  {
   "metadata": {},
   "cell_type": "markdown",
   "source": "Load the data using the DataLoader class.",
   "id": "364ad9e09a6c6e69"
  },
  {
   "metadata": {},
   "cell_type": "code",
   "outputs": [],
   "execution_count": null,
   "source": [
    "npz_path = data_path / \"data.npz\"\n",
    "regions_path = data_path / \"regions.parquet\"\n",
    "annotation_path = data_path / \"ensembl_annotation.gff3\"\n",
    "\n",
    "dataset = DataLoader(npz_path = npz_path,\n",
    "                     regions_path=regions_path,\n",
    "                     annotation_path=annotation_path,\n",
    "                    )\n",
    "print(f\"Loaded dataset with {len(dataset)} regions\")"
   ],
   "id": "c851d0e1e2e4bb3b"
  },
  {
   "metadata": {},
   "cell_type": "markdown",
   "source": "",
   "id": "429a54956bcf50ee"
  }
 ],
 "metadata": {
  "kernelspec": {
   "display_name": "Python 3",
   "language": "python",
   "name": "python3"
  },
  "language_info": {
   "codemirror_mode": {
    "name": "ipython",
    "version": 2
   },
   "file_extension": ".py",
   "mimetype": "text/x-python",
   "name": "python",
   "nbconvert_exporter": "python",
   "pygments_lexer": "ipython2",
   "version": "2.7.6"
  }
 },
 "nbformat": 4,
 "nbformat_minor": 5
}
