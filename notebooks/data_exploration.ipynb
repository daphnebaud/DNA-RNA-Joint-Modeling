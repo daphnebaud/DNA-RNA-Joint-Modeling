{
 "cells": [
  {
   "cell_type": "code",
   "execution_count": null,
   "id": "initial_id",
   "metadata": {
    "collapsed": true
   },
   "outputs": [],
   "source": [
    ""
   ]
  },
  {
   "metadata": {},
   "cell_type": "markdown",
   "source": "# Data Exploration - DNA/RNA Joint Modeling\n",
   "id": "c4851741ebd76433"
  },
  {
   "metadata": {},
   "cell_type": "markdown",
   "source": "Setup: Load libraries and the data_loader from load_data.py.",
   "id": "c1fa2e8061511c41"
  },
  {
   "metadata": {
    "ExecuteTime": {
     "end_time": "2025-06-18T10:58:26.487971Z",
     "start_time": "2025-06-18T10:58:26.468853Z"
    }
   },
   "cell_type": "code",
   "source": [
    "import numpy as np\n",
    "import pandas as pd\n",
    "import matplotlib.pyplot as plt\n",
    "import seaborn as sns\n",
    "\n",
    "import sys\n",
    "from pathlib import Path\n",
    "\n",
    "# add the root directory to the path to import from src/\n",
    "sys.path.append(str(Path().resolve().parent))\n",
    "\n",
    "from src.data.load_data import DataLoader\n",
    "\n",
    "# Setup\n",
    "sns.set(style=\"whitegrid\")"
   ],
   "id": "58abbd9a2a962d6e",
   "outputs": [
    {
     "ename": "ModuleNotFoundError",
     "evalue": "No module named 'src'",
     "output_type": "error",
     "traceback": [
      "\u001B[0;31m---------------------------------------------------------------------------\u001B[0m",
      "\u001B[0;31mModuleNotFoundError\u001B[0m                       Traceback (most recent call last)",
      "Cell \u001B[0;32mIn[2], line 12\u001B[0m\n\u001B[1;32m      9\u001B[0m \u001B[38;5;66;03m# add the root directory to the path to import from src/\u001B[39;00m\n\u001B[1;32m     10\u001B[0m sys\u001B[38;5;241m.\u001B[39mpath\u001B[38;5;241m.\u001B[39mappend(\u001B[38;5;28mstr\u001B[39m(Path()\u001B[38;5;241m.\u001B[39mresolve()\u001B[38;5;241m.\u001B[39mparent))\n\u001B[0;32m---> 12\u001B[0m \u001B[38;5;28;01mfrom\u001B[39;00m\u001B[38;5;250m \u001B[39m\u001B[38;5;21;01msrc\u001B[39;00m\u001B[38;5;21;01m.\u001B[39;00m\u001B[38;5;21;01mdata\u001B[39;00m\u001B[38;5;21;01m.\u001B[39;00m\u001B[38;5;21;01mload_data\u001B[39;00m\u001B[38;5;250m \u001B[39m\u001B[38;5;28;01mimport\u001B[39;00m DataLoader\n\u001B[1;32m     14\u001B[0m \u001B[38;5;66;03m# Setup\u001B[39;00m\n\u001B[1;32m     15\u001B[0m sns\u001B[38;5;241m.\u001B[39mset(style\u001B[38;5;241m=\u001B[39m\u001B[38;5;124m\"\u001B[39m\u001B[38;5;124mwhitegrid\u001B[39m\u001B[38;5;124m\"\u001B[39m)\n",
      "\u001B[0;31mModuleNotFoundError\u001B[0m: No module named 'src'"
     ]
    }
   ],
   "execution_count": 2
  }
 ],
 "metadata": {
  "kernelspec": {
   "display_name": "Python 3",
   "language": "python",
   "name": "python3"
  },
  "language_info": {
   "codemirror_mode": {
    "name": "ipython",
    "version": 2
   },
   "file_extension": ".py",
   "mimetype": "text/x-python",
   "name": "python",
   "nbconvert_exporter": "python",
   "pygments_lexer": "ipython2",
   "version": "2.7.6"
  }
 },
 "nbformat": 4,
 "nbformat_minor": 5
}
