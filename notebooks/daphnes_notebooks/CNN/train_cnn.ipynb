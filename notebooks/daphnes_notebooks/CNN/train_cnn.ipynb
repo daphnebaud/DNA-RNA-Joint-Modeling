{
 "cells": [
  {
   "metadata": {},
   "cell_type": "code",
   "outputs": [],
   "execution_count": null,
   "source": "",
   "id": "5f3f0420bee46dba"
  }
 ],
 "metadata": {},
 "nbformat": 4,
 "nbformat_minor": 5
}
